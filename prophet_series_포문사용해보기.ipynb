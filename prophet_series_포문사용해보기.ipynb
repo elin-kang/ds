{
 "cells": [
  {
   "cell_type": "code",
   "execution_count": null,
   "metadata": {},
   "outputs": [],
   "source": [
    "import csv\n",
    "\n",
    "# 판다스\n",
    "import pandas as pd \n",
    "import numpy as np\n",
    "\n",
    "# 그래프 그리기\n",
    "import matplotlib.pyplot as plt\n",
    "import seaborn as sb\n",
    "\n",
    "%matplotlib inline\n",
    "\n",
    "import random\n",
    "\n",
    "from fbprophet import Prophet\n",
    "\n",
    "data =pd.read_excel(\"data.xlsx\")\n",
    "data.drop( ['Products' , 'starting/edning'  , 'Unit Desc',\n",
    "           'Accum.Exports','Sales','Sales.1','Sales.2','Commitments','Sales.3','Sales.4'] , axis = 1, inplace=True)\n",
    "data.sort_values(by='Date', ascending=True, inplace=True)\n"
   ]
  },
  {
   "cell_type": "code",
   "execution_count": null,
   "metadata": {},
   "outputs": [],
   "source": []
  },
  {
   "cell_type": "markdown",
   "metadata": {},
   "source": [
    "# 원하는 나라만 수집합니다 / 이미지파일로도 저장합니다"
   ]
  },
  {
   "cell_type": "code",
   "execution_count": null,
   "metadata": {},
   "outputs": [],
   "source": [
    "input_1 = input(\"Country(대문자 사용, 국가명 중 일부만 써도 됩니다): \")\n",
    "\n",
    "# 현재날짜까지 수집된 데이터 전체를 보여줍니다\n",
    "data_1 = data.loc[    data['Country'].str.contains(input_1)  ]\n",
    "plt.figure(figsize=(15,7))\n",
    "plt.plot(data_1['Date'], data_1['Weekly Exports'])\n",
    "plt.savefig(\"aa.png\")\n",
    "\n",
    "# 이후 데이터를 예측합니다\n",
    "data_1_2 = data_1.rename(columns={'Date':'ds', 'Weekly Exports':'y'})\n",
    "data_1_2 = data_1_2[ ['ds', 'y'] ]\n",
    "prophet = Prophet()\n",
    "prophet.fit(data_1_2)\n",
    "future_1 = prophet.make_future_dataframe(periods=55, freq = 'W') # 이후 55주까지 예측합니다\n",
    "forecast_1 = prophet.predict(future_1)\n",
    "#년도별, 월별 예측데이터를 보여줍니다\n",
    "figure1_1 = prophet.plot(forecast_1, xlabel='Date', ylabel='Weekly Exports').savefig(\"bb.png\")\n",
    "figure2_1 = prophet.plot_components(forecast_1,).savefig(\"cc.png\")\n",
    "\n",
    "# 엑셀로 예측 데이터를 저장합니다\n",
    "forecast_save_1 = forecast_1.rename(columns = {'ds':'Date', 'yhat':'Weekly Exports'})\n",
    "# forecast_save_1 = forecast_save_1[ ['Date' , 'Weekly Exports'] ]\n",
    "forecast_save_1.to_excel(\"forecast_1.xlsx\")"
   ]
  },
  {
   "cell_type": "code",
   "execution_count": null,
   "metadata": {},
   "outputs": [],
   "source": []
  },
  {
   "cell_type": "code",
   "execution_count": null,
   "metadata": {},
   "outputs": [],
   "source": []
  },
  {
   "cell_type": "code",
   "execution_count": null,
   "metadata": {},
   "outputs": [],
   "source": [
    "input_2 = input(\"Country(대문자 사용, 국가명 중 일부만 써도 됩니다): \")\n",
    "\n",
    "# 현재날짜까지 수집된 데이터 전체를 보여줍니다\n",
    "data_2 = data.loc[    data['Country'].str.contains(input_2)  ]\n",
    "plt.figure(figsize=(17,5))\n",
    "plt.plot(data_2['Date'], data_2['Weekly Exports'])\n",
    "plt.show()\n",
    "\n",
    "# 이후 데이터를 예측합니다\n",
    "data_2_2 = data_2.rename(columns={'Date':'ds', 'Weekly Exports':'y'})\n",
    "data_2_2 = data_2_2[ ['ds', 'y'] ]\n",
    "prophet = Prophet()\n",
    "prophet.fit(data_2_2)\n",
    "future_2 = prophet.make_future_dataframe(periods=55, freq = 'W') # 이후 55주까지 예측합니다\n",
    "forecast_2 = prophet.predict(future_2)\n",
    "\n",
    "#년도별, 월별 예측데이터를 보여줍니다\n",
    "figure1_2 = prophet.plot(forecast_2, xlabel='Date', ylabel='Weekly Exports')\n",
    "figure2_2= prophet.plot_components(forecast_2)\n",
    "\n",
    "# 엑셀로 예측 데이터를 저장합니다\n",
    "forecast_save_2 = forecast_2.rename(columns = {'ds':'Date', 'yhat':'Weekly Exports'})\n",
    "# forecast_save_2 = forecast_save_2[ ['Date' , 'Weekly Exports'] ]\n",
    "forecast_save_2.to_excel(\"forecast_2.xlsx\")\n"
   ]
  },
  {
   "cell_type": "code",
   "execution_count": null,
   "metadata": {},
   "outputs": [],
   "source": [
    "input_3 = input(\"Country(대문자 사용, 국가명 중 일부만 써도 됩니다): \")\n",
    "\n",
    "# 현재날짜까지 수집된 데이터 전체를 보여줍니다\n",
    "data_3 = data.loc[    data['Country'].str.contains(input_3) ]\n",
    "plt.figure(figsize=(17,5))\n",
    "plt.plot(data_3['Date'], data_3['Weekly Exports'])\n",
    "plt.show()\n",
    "\n",
    "# 이후 데이터를 예측합니다\n",
    "data_3_2 = data_3.rename(columns={'Date':'ds', 'Weekly Exports':'y'})\n",
    "data_3_2 = data_3_2[ ['ds', 'y'] ]\n",
    "prophet = Prophet()\n",
    "prophet.fit(data_3_2)\n",
    "future_3 = prophet.make_future_dataframe(periods=55, freq = 'W') # 이후 55주까지 예측합니다\n",
    "forecast_3 = prophet.predict(future_3)\n",
    "\n",
    "#년도별, 월별 예측데이터를 보여줍니다\n",
    "figure1_3 = prophet.plot(forecast_3, xlabel='Date', ylabel='Weekly Exports')\n",
    "figure2_3= prophet.plot_components(forecast_3)\n",
    "print(input_3)\n",
    "\n",
    "# 엑셀로 예측 데이터를 저장합니다\n",
    "forecast_save_3 = forecast_3.rename(columns = {'ds':'Date', 'yhat':'Weekly Exports'})\n",
    "# forecast_save_3 = forecast_save_3[ ['Date' , 'Weekly Exports'] ]\n",
    "forecast_save_3.to_excel(\"forecast_3.xlsx\")\n"
   ]
  },
  {
   "cell_type": "code",
   "execution_count": null,
   "metadata": {},
   "outputs": [],
   "source": []
  },
  {
   "cell_type": "code",
   "execution_count": null,
   "metadata": {},
   "outputs": [],
   "source": []
  },
  {
   "cell_type": "markdown",
   "metadata": {},
   "source": [
    "# 서브플롯을 형성해보자"
   ]
  },
  {
   "cell_type": "code",
   "execution_count": null,
   "metadata": {},
   "outputs": [],
   "source": [
    "def Prophet.plot(\n",
    "    m, fcst, ax=None, uncertainty=True, plot_cap=True, xlabel='ds', ylabel='y',\n",
    "    figsize=(20, 20)\n",
    "):\n",
    "    if ax is None:\n",
    "        fig = plt.figure(facecolor='w', figsize=figsize)\n",
    "        ax = fig.add_subplot(111)\n",
    "    else:\n",
    "        fig = ax.get_figure()\n",
    "    fcst_t = fcst['ds'].dt.to_pydatetime()\n",
    "    ax.plot(m.history['ds'].dt.to_pydatetime(), m.history['y'], 'k.')\n",
    "    ax.plot(fcst_t, fcst['yhat'], ls='-', c='#0072B2')\n",
    "    if 'cap' in fcst and plot_cap:\n",
    "        ax.plot(fcst_t, fcst['cap'], ls='--', c='k')\n",
    "    if m.logistic_floor and 'floor' in fcst and plot_cap:\n",
    "        ax.plot(fcst_t, fcst['floor'], ls='--', c='k')\n",
    "    if uncertainty and m.uncertainty_samples:\n",
    "        ax.fill_between(fcst_t, fcst['yhat_lower'], fcst['yhat_upper'],\n",
    "                        color='#0072B2', alpha=0.2)\n",
    "    # Specify formatting to workaround matplotlib issue #12925\n",
    "    locator = AutoDateLocator(interval_multiples=False)\n",
    "    formatter = AutoDateFormatter(locator)\n",
    "    ax.xaxis.set_major_locator(locator)\n",
    "    ax.xaxis.set_major_formatter(formatter)\n",
    "    ax.grid(True, which='major', c='RED', ls='-', lw=1, alpha=0.2)\n",
    "    ax.set_xlabel(xlabel)\n",
    "    ax.set_ylabel(ylabel)\n",
    "    fig.tight_layout()\n",
    "    return fig"
   ]
  },
  {
   "cell_type": "code",
   "execution_count": null,
   "metadata": {},
   "outputs": [],
   "source": [
    "prophet.plot(forecast_3, xlabel='Date', ylabel='Weekly Exports')"
   ]
  },
  {
   "cell_type": "code",
   "execution_count": null,
   "metadata": {},
   "outputs": [],
   "source": []
  },
  {
   "cell_type": "code",
   "execution_count": null,
   "metadata": {},
   "outputs": [],
   "source": []
  },
  {
   "cell_type": "code",
   "execution_count": null,
   "metadata": {},
   "outputs": [],
   "source": []
  },
  {
   "cell_type": "code",
   "execution_count": null,
   "metadata": {},
   "outputs": [],
   "source": []
  },
  {
   "cell_type": "markdown",
   "metadata": {},
   "source": [
    "# 플롯를 합치는 방법을 알아보자"
   ]
  },
  {
   "cell_type": "code",
   "execution_count": null,
   "metadata": {},
   "outputs": [],
   "source": [
    "forecast_save_1"
   ]
  },
  {
   "cell_type": "code",
   "execution_count": null,
   "metadata": {},
   "outputs": [],
   "source": [
    "forecast_save_3"
   ]
  },
  {
   "cell_type": "code",
   "execution_count": null,
   "metadata": {},
   "outputs": [],
   "source": []
  },
  {
   "cell_type": "code",
   "execution_count": null,
   "metadata": {},
   "outputs": [],
   "source": []
  },
  {
   "cell_type": "code",
   "execution_count": null,
   "metadata": {},
   "outputs": [],
   "source": []
  },
  {
   "cell_type": "code",
   "execution_count": null,
   "metadata": {},
   "outputs": [],
   "source": []
  },
  {
   "cell_type": "code",
   "execution_count": null,
   "metadata": {},
   "outputs": [],
   "source": [
    "prophet.plot(forecast_1, xlabel='Date', ylabel='Weekly Exports')\n",
    "prophet.plot(forecast_2, xlabel='Date', ylabel='Weekly Exports')\n",
    "prophet.plot(forecast_3, xlabel='Date', ylabel='Weekly Exports')"
   ]
  },
  {
   "cell_type": "code",
   "execution_count": null,
   "metadata": {},
   "outputs": [],
   "source": []
  },
  {
   "cell_type": "code",
   "execution_count": null,
   "metadata": {},
   "outputs": [],
   "source": [
    "prophet.plot_components(forecast_japan)\n",
    "prophet.plot_components(forecast_korea)"
   ]
  },
  {
   "cell_type": "code",
   "execution_count": null,
   "metadata": {},
   "outputs": [],
   "source": []
  },
  {
   "cell_type": "code",
   "execution_count": null,
   "metadata": {},
   "outputs": [],
   "source": []
  },
  {
   "cell_type": "code",
   "execution_count": null,
   "metadata": {},
   "outputs": [],
   "source": [
    "plt.figure(figsize=(17, 10))\n",
    "'''\n",
    "plt.title(user_input_Year+ \"년 품목 별 수요량\", size = 25, loc = 'left')\n",
    "'''\n",
    "plt.plot(process_Title1_Month, label=user_input_Title1, )\n",
    "plt.plot(process_Title2_Month, label=user_input_Title2, )\n",
    "plt.plot(process_Title3_Month, label=user_input_Title3, )\n",
    "plt.legend(loc = 'upper right', ncol = 3, bbox_to_anchor = (1, 1.07), fancybox=True, shadow=True, )\n",
    "plt.xticks(ticks=process_Title1_Month.index.values)\n",
    "## plt.xlabel(\"월 별\")\n",
    "plt.ylabel(\"건수\")\n",
    "plt.grid()\n",
    "plt.savefig('year.png')"
   ]
  },
  {
   "cell_type": "code",
   "execution_count": null,
   "metadata": {},
   "outputs": [],
   "source": []
  }
 ],
 "metadata": {
  "kernelspec": {
   "display_name": "Python 3",
   "language": "python",
   "name": "python3"
  },
  "language_info": {
   "codemirror_mode": {
    "name": "ipython",
    "version": 3
   },
   "file_extension": ".py",
   "mimetype": "text/x-python",
   "name": "python",
   "nbconvert_exporter": "python",
   "pygments_lexer": "ipython3",
   "version": "3.7.4"
  }
 },
 "nbformat": 4,
 "nbformat_minor": 2
}
